{
  "nbformat": 4,
  "nbformat_minor": 0,
  "metadata": {
    "colab": {
      "provenance": []
    },
    "kernelspec": {
      "name": "python3",
      "display_name": "Python 3"
    },
    "language_info": {
      "name": "python"
    }
  },
  "cells": [
    {
      "cell_type": "code",
      "execution_count": null,
      "metadata": {
        "id": "9p149xAncQSg"
      },
      "outputs": [],
      "source": [
        "pip install --upgrade google-cloud-speech"
      ]
    },
    {
      "cell_type": "code",
      "source": [
        "# from google.colab import drive\n",
        "# drive.mount('/content/drive')\n",
        "# %cd /content/drive/MyDrive/TeachMe/audio_samples"
      ],
      "metadata": {
        "id": "heLceTwGxiwe"
      },
      "execution_count": null,
      "outputs": []
    },
    {
      "cell_type": "code",
      "source": [
        "from google.colab import auth\n",
        "PROJECT_ID = \"helical-bonito-417313\"\n",
        "auth.authenticate_user(project_id=PROJECT_ID)"
      ],
      "metadata": {
        "id": "FnvC1S3secA0"
      },
      "execution_count": null,
      "outputs": []
    },
    {
      "cell_type": "code",
      "source": [
        "from google.cloud import speech\n",
        "\n",
        "def run_quickstart() -> speech.RecognizeResponse:\n",
        "    # Creates a client object for interacting with the Google Speech-To-Text API\n",
        "    client = speech.SpeechClient()\n",
        "\n",
        "    # The name of the audio file to transcribe\n",
        "    gcs_uri = \"gs://cloud-samples-data/speech/brooklyn_bridge.raw\"\n",
        "    # uri = \"/content/drive/MyDrive/TeachMe/audio_samples/harvard.wav\"\n",
        "\n",
        "    # A RecognitionAudio object contains audio data derived from the resource passed as argument\n",
        "    audio = speech.RecognitionAudio(uri=gcs_uri)\n",
        "    # with open(uri, 'rb') as f:\n",
        "    #   audio = speech.RecognitionAudio(content=f.read())\n",
        "\n",
        "    # A RecognitionConfig object is needed to provide information to the recognizer about how to process the request\n",
        "    config = speech.RecognitionConfig(\n",
        "        encoding=speech.RecognitionConfig.AudioEncoding.LINEAR16,\n",
        "        audio_channel_count=1, # 1 channel for raw, 2 channels for wav\n",
        "        sample_rate_hertz=16000, # 16000 for raw, 44100 for wav\n",
        "        language_code=\"en-US\",\n",
        "    )\n",
        "\n",
        "    # Detects speech in the audio file\n",
        "    response = client.recognize(config=config, audio=audio)\n",
        "\n",
        "    for result in response.results:\n",
        "        print(f\"Transcript: {result.alternatives[0].transcript}\")\n",
        "\n",
        "    return response"
      ],
      "metadata": {
        "id": "RjP7BDEicRE2"
      },
      "execution_count": null,
      "outputs": []
    },
    {
      "cell_type": "code",
      "source": [
        "response = run_quickstart()"
      ],
      "metadata": {
        "id": "GWAGvIAoc0b4"
      },
      "execution_count": null,
      "outputs": []
    },
    {
      "cell_type": "code",
      "source": [],
      "metadata": {
        "id": "RK2MI4QXuSDS"
      },
      "execution_count": null,
      "outputs": []
    }
  ]
}